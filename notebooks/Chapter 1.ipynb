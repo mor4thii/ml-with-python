{
   "cells": [
      {
         "cell_type": "markdown",
         "metadata": {},
         "source": [
            "# Chapter 1\n",
            "\n",
            "This is all about data structures in NumPy"
         ]
      },
      {
         "cell_type": "code",
         "execution_count": 1,
         "metadata": {},
         "outputs": [],
         "source": [
            "import numpy as np"
         ]
      },
      {
         "cell_type": "code",
         "execution_count": 2,
         "metadata": {},
         "outputs": [
            {
               "name": "stdout",
               "output_type": "stream",
               "text": [
                  "array([1, 2, 3])\n",
                  "array([[1],\n",
                  "       [2],\n",
                  "       [3]])\n",
                  "array([[1, 2],\n",
                  "       [1, 2],\n",
                  "       [1, 2]])\n"
               ]
            }
         ],
         "source": [
            "vector_row = np.array([1, 2, 3])\n",
            "vector_col = np.array([[1], [2], [3]])\n",
            "matrix = np.array([[1, 2], [1, 2], [1, 2]])\n",
            "\n",
            "print(np.array_repr(vector_row))\n",
            "print(np.array_repr(vector_col))\n",
            "print(np.array_repr(matrix))"
         ]
      },
      {
         "cell_type": "markdown",
         "metadata": {},
         "source": [
            "There is `np.mat([[1,2],[1,2]])` which would create a Matrix data structure, but arrays are apparently the de facto standard for some reason, see [numpy Matrix documentation](https://numpy.org/doc/2.1/reference/generated/numpy.matrix.html)."
         ]
      },
      {
         "cell_type": "code",
         "execution_count": 3,
         "metadata": {},
         "outputs": [],
         "source": [
            "from scipy import sparse"
         ]
      },
      {
         "cell_type": "code",
         "execution_count": 4,
         "metadata": {},
         "outputs": [
            {
               "name": "stdout",
               "output_type": "stream",
               "text": [
                  "<Compressed Sparse Row sparse matrix of dtype 'int64'\n",
                  "\twith 2 stored elements and shape (3, 2)>\n",
                  "  Coords\tValues\n",
                  "  (1, 1)\t1\n",
                  "  (2, 0)\t3\n",
                  "<Compressed Sparse Row sparse matrix of dtype 'int64'\n",
                  "\twith 2 stored elements and shape (3, 10)>\n",
                  "  Coords\tValues\n",
                  "  (1, 1)\t1\n",
                  "  (2, 0)\t3\n"
               ]
            }
         ],
         "source": [
            "some_matrix = np.array([[0, 0], [0, 1], [3, 0]])\n",
            "some_matrix_sparse = sparse.csr_matrix(some_matrix)\n",
            "\n",
            "matrix_large = np.array([[0, 0, 0, 0, 0, 0, 0, 0, 0, 0],\n",
            "                         [0, 1, 0, 0, 0, 0, 0, 0, 0, 0],\n",
            "                         [3, 0, 0, 0, 0, 0, 0, 0, 0, 0]])\n",
            "matrix_large_sparse = sparse.csr_matrix(matrix_large)\n",
            "\n",
            "print(some_matrix_sparse)\n",
            "print(matrix_large_sparse)"
         ]
      },
      {
         "cell_type": "markdown",
         "metadata": {},
         "source": [
            "It is interesting to note that the print function of sparse matrices tells me the shape - the CSR representation is the same here!"
         ]
      },
      {
         "cell_type": "code",
         "execution_count": 5,
         "metadata": {},
         "outputs": [
            {
               "name": "stdout",
               "output_type": "stream",
               "text": [
                  "[0 0 0 0 0]\n",
                  "[[1.337 1.337 1.337 1.337 1.337 1.337 1.337 1.337 1.337 1.337]\n",
                  " [1.337 1.337 1.337 1.337 1.337 1.337 1.337 1.337 1.337 1.337]\n",
                  " [1.337 1.337 1.337 1.337 1.337 1.337 1.337 1.337 1.337 1.337]\n",
                  " [1.337 1.337 1.337 1.337 1.337 1.337 1.337 1.337 1.337 1.337]\n",
                  " [1.337 1.337 1.337 1.337 1.337 1.337 1.337 1.337 1.337 1.337]\n",
                  " [1.337 1.337 1.337 1.337 1.337 1.337 1.337 1.337 1.337 1.337]\n",
                  " [1.337 1.337 1.337 1.337 1.337 1.337 1.337 1.337 1.337 1.337]\n",
                  " [1.337 1.337 1.337 1.337 1.337 1.337 1.337 1.337 1.337 1.337]\n",
                  " [1.337 1.337 1.337 1.337 1.337 1.337 1.337 1.337 1.337 1.337]\n",
                  " [1.337 1.337 1.337 1.337 1.337 1.337 1.337 1.337 1.337 1.337]]\n",
                  "<Compressed Sparse Row sparse matrix of dtype 'int64'\n",
                  "\twith 0 stored elements and shape (1, 5)>\n"
               ]
            }
         ],
         "source": [
            "zeroes = np.zeros(shape=5, dtype=int)\n",
            "ones = np.full(shape=(10, 10), fill_value=1.337)\n",
            "zeroes_sparse = sparse.csr_matrix(zeroes)\n",
            "\n",
            "print(zeroes)\n",
            "print(ones)\n",
            "print(zeroes_sparse)"
         ]
      },
      {
         "cell_type": "code",
         "execution_count": 6,
         "metadata": {},
         "outputs": [
            {
               "name": "stdout",
               "output_type": "stream",
               "text": [
                  "0\n",
                  "[3 0]\n",
                  "[0 1]\n",
                  "[[0 1]\n",
                  " [3 0]]\n",
                  "[[0 0]\n",
                  " [0 1]\n",
                  " [3 0]]\n"
               ]
            }
         ],
         "source": [
            "print(zeroes[3])\n",
            "print(some_matrix[2])\n",
            "print(some_matrix[-2])\n",
            "print(some_matrix[1:])\n",
            "print(some_matrix[:10000])"
         ]
      },
      {
         "cell_type": "markdown",
         "metadata": {},
         "source": [
            "Python is very interesting regarding slicing of arrays, element selection, and so on!"
         ]
      },
      {
         "cell_type": "code",
         "execution_count": 7,
         "metadata": {},
         "outputs": [
            {
               "name": "stdout",
               "output_type": "stream",
               "text": [
                  "(3, 4)\n",
                  "12\n",
                  "2\n",
                  "96\n",
                  "160\n",
                  "Actual matrix size: 240\n",
                  "Actual sparsly populated matrix size: 40\n"
               ]
            }
         ],
         "source": [
            "another_matrix = np.array([[1, 2, 3, 4],\n",
            "                           [5, 6, 7, 8],\n",
            "                           [9, 10, 11, 12]])\n",
            "\n",
            "another_matrix_sparse = sparse.csr_matrix(another_matrix)\n",
            "\n",
            "print(another_matrix.shape)\n",
            "print(another_matrix.size)\n",
            "print(another_matrix.ndim)\n",
            "print(another_matrix.nbytes)\n",
            "print(another_matrix_sparse.data.nbytes +\n",
            "      another_matrix_sparse.indptr.nbytes + another_matrix_sparse.indices.nbytes)\n",
            "\n",
            "print(f\"Actual matrix size: {matrix_large.nbytes}\")\n",
            "print(\n",
            "    f\"Actual sparsly populated matrix size: {matrix_large_sparse.data.nbytes + matrix_large_sparse.indptr.nbytes + matrix_large_sparse.indices.nbytes}\")"
         ]
      },
      {
         "cell_type": "code",
         "execution_count": 8,
         "metadata": {},
         "outputs": [
            {
               "name": "stdout",
               "output_type": "stream",
               "text": [
                  "[[101 102 103 104]\n",
                  " [105 106 107 108]\n",
                  " [109 110 111 112]]\n",
                  "[[101 102 103 104]\n",
                  " [105 106 107 108]\n",
                  " [109 110 111 112]]\n",
                  "[[  1   4   9  16]\n",
                  " [ 25  36  49  64]\n",
                  " [ 81 100 121 144]]\n"
               ]
            }
         ],
         "source": [
            "def add_100(i): return i + 100\n",
            "\n",
            "\n",
            "vectorized_add_100 = np.vectorize(add_100)\n",
            "\n",
            "another_matrix_plus_100 = vectorized_add_100(another_matrix)\n",
            "print(another_matrix_plus_100)\n",
            "\n",
            "broadcasting_add_100_to_another_matrix = another_matrix + 100\n",
            "print(broadcasting_add_100_to_another_matrix)\n",
            "\n",
            "hadamard = another_matrix * another_matrix\n",
            "print(hadamard)"
         ]
      },
      {
         "cell_type": "code",
         "execution_count": 9,
         "metadata": {},
         "outputs": [
            {
               "name": "stdout",
               "output_type": "stream",
               "text": [
                  "min:1, max:12\n",
                  "min col:[1 2 3 4], max col:[ 9 10 11 12]\n",
                  "min row:[1 5 9], max row:[ 4  8 12]\n"
               ]
            }
         ],
         "source": [
            "min = np.min(another_matrix)\n",
            "max = np.max(another_matrix)\n",
            "\n",
            "min_col = np.min(another_matrix, axis=0)\n",
            "max_col = np.max(another_matrix, axis=0)\n",
            "\n",
            "min_row = np.min(another_matrix, axis=1)\n",
            "max_row = np.max(another_matrix, axis=1)\n",
            "\n",
            "print(f\"min:{min}, max:{max}\")\n",
            "print(f\"min col:{min_col}, max col:{max_col}\")\n",
            "print(f\"min row:{min_row}, max row:{max_row}\")"
         ]
      },
      {
         "cell_type": "code",
         "execution_count": 10,
         "metadata": {},
         "outputs": [
            {
               "name": "stdout",
               "output_type": "stream",
               "text": [
                  "mean:6.5, var:11.916666666666666, std:3.452052529534663\n",
                  "mean:[5. 6. 7. 8.], var:[10.66666667 10.66666667 10.66666667 10.66666667], std:[3.26598632 3.26598632 3.26598632 3.26598632]\n",
                  "mean:[ 2.5  6.5 10.5], var:[1.25 1.25 1.25], std:[1.11803399 1.11803399 1.11803399]\n"
               ]
            }
         ],
         "source": [
            "mean = np.mean(another_matrix)\n",
            "var = np.var(another_matrix)\n",
            "std = np.std(another_matrix)\n",
            "\n",
            "print(f\"mean:{mean}, var:{var}, std:{std}\")\n",
            "\n",
            "mean = np.mean(another_matrix, axis=0)\n",
            "var = np.var(another_matrix, axis=0)\n",
            "std = np.std(another_matrix, axis=0)\n",
            "\n",
            "print(f\"mean:{mean}, var:{var}, std:{std}\")\n",
            "\n",
            "mean = np.mean(another_matrix, axis=1)\n",
            "var = np.var(another_matrix, axis=1)\n",
            "std = np.std(another_matrix, axis=1)\n",
            "\n",
            "print(f\"mean:{mean}, var:{var}, std:{std}\")"
         ]
      },
      {
         "cell_type": "code",
         "execution_count": 14,
         "metadata": {},
         "outputs": [
            {
               "name": "stdout",
               "output_type": "stream",
               "text": [
                  "Reshape (6,2):\n",
                  "[[ 1  2]\n",
                  " [ 3  4]\n",
                  " [ 5  6]\n",
                  " [ 7  8]\n",
                  " [ 9 10]\n",
                  " [11 12]]\n",
                  "Reshape (2,6):\n",
                  "[[ 1  2  3  4  5  6]\n",
                  " [ 7  8  9 10 11 12]]\n",
                  "Reshape (1,?):\n",
                  "[[ 1  2  3  4  5  6  7  8  9 10 11 12]]\n",
                  "Reshape (2,?):\n",
                  "[[ 1  2  3  4  5  6]\n",
                  " [ 7  8  9 10 11 12]]\n",
                  "Reshape (3,?):\n",
                  "[[ 1  2  3  4]\n",
                  " [ 5  6  7  8]\n",
                  " [ 9 10 11 12]]\n",
                  "Reshape (4,?):\n",
                  "[[ 1  2  3]\n",
                  " [ 4  5  6]\n",
                  " [ 7  8  9]\n",
                  " [10 11 12]]\n",
                  "Reshape (6,?):\n",
                  "[[ 1  2]\n",
                  " [ 3  4]\n",
                  " [ 5  6]\n",
                  " [ 7  8]\n",
                  " [ 9 10]\n",
                  " [11 12]]\n",
                  "Reshape (?):\n",
                  "[ 1  2  3  4  5  6  7  8  9 10 11 12]\n",
                  "Reshape (12):\n",
                  "[ 1  2  3  4  5  6  7  8  9 10 11 12]\n"
               ]
            }
         ],
         "source": [
            "print(f\"Reshape (6,2):\\n{another_matrix.reshape(6, 2)}\")\n",
            "print(f\"Reshape (2,6):\\n{another_matrix.reshape(2, 6)}\")\n",
            "print(f\"Reshape (1,?):\\n{another_matrix.reshape(1, -1)}\")\n",
            "print(f\"Reshape (2,?):\\n{another_matrix.reshape(2, -1)}\")\n",
            "print(f\"Reshape (3,?):\\n{another_matrix.reshape(3, -1)}\")\n",
            "print(f\"Reshape (4,?):\\n{another_matrix.reshape(4, -1)}\")\n",
            "print(f\"Reshape (6,?):\\n{another_matrix.reshape(6, -1)}\")\n",
            "print(f\"Reshape (?):\\n{another_matrix.reshape(-1)}\")\n",
            "print(f\"Reshape (12):\\n{another_matrix.reshape(12)}\")"
         ]
      },
      {
         "cell_type": "code",
         "execution_count": 17,
         "metadata": {},
         "outputs": [
            {
               "name": "stdout",
               "output_type": "stream",
               "text": [
                  "Transposed: [[ 1  5  9]\n",
                  " [ 2  6 10]\n",
                  " [ 3  7 11]\n",
                  " [ 4  8 12]]\n",
                  "Strictly, vectors cannot be transposed: [1 2 3 4 5 6]\n",
                  "But row/column vectors can be: [[1]\n",
                  " [2]\n",
                  " [3]\n",
                  " [4]\n",
                  " [5]\n",
                  " [6]]\n"
               ]
            }
         ],
         "source": [
            "print(f\"Transposed: {another_matrix.T}\")\n",
            "print(f\"Strictly, vectors cannot be transposed: {\n",
            "      np.array([1, 2, 3, 4, 5, 6]).T}\")\n",
            "\n",
            "print(f\"But row/column vectors can be: {\n",
            "      np.array([[1, 2, 3, 4, 5, 6]]).T}\")"
         ]
      }
   ],
   "metadata": {
      "kernelspec": {
         "display_name": "ml-with-python",
         "language": "python",
         "name": "python3"
      },
      "language_info": {
         "codemirror_mode": {
            "name": "ipython",
            "version": 3
         },
         "file_extension": ".py",
         "mimetype": "text/x-python",
         "name": "python",
         "nbconvert_exporter": "python",
         "pygments_lexer": "ipython3",
         "version": "3.13.0"
      }
   },
   "nbformat": 4,
   "nbformat_minor": 2
}
