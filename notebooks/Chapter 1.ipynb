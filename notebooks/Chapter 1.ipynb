{
 "cells": [
  {
   "cell_type": "markdown",
   "metadata": {},
   "source": [
    "# Chapter 1\n",
    "\n",
    "This is all about data structures in NumPy"
   ]
  },
  {
   "cell_type": "code",
   "execution_count": 29,
   "metadata": {},
   "outputs": [],
   "source": [
    "import numpy as np"
   ]
  },
  {
   "cell_type": "code",
   "execution_count": 30,
   "metadata": {},
   "outputs": [
    {
     "name": "stdout",
     "output_type": "stream",
     "text": [
      "array([1, 2, 3])\n",
      "array([[1],\n",
      "       [2],\n",
      "       [3]])\n",
      "array([[1, 2],\n",
      "       [1, 2],\n",
      "       [1, 2]])\n"
     ]
    }
   ],
   "source": [
    "vector_row = np.array([1, 2, 3])\n",
    "vector_col = np.array([[1], [2], [3]])\n",
    "matrix = np.array([[1, 2], [1, 2], [1, 2]])\n",
    "\n",
    "print(np.array_repr(vector_row))\n",
    "print(np.array_repr(vector_col))\n",
    "print(np.array_repr(matrix))"
   ]
  },
  {
   "cell_type": "markdown",
   "metadata": {},
   "source": [
    "There is `np.mat([[1,2],[1,2]])` which would create a Matrix data structure, but arrays are apparently the de facto standard for some reason, see [numpy Matrix documentation](https://numpy.org/doc/2.1/reference/generated/numpy.matrix.html)."
   ]
  },
  {
   "cell_type": "code",
   "execution_count": 31,
   "metadata": {},
   "outputs": [],
   "source": [
    "from scipy import sparse"
   ]
  },
  {
   "cell_type": "code",
   "execution_count": 32,
   "metadata": {},
   "outputs": [
    {
     "name": "stdout",
     "output_type": "stream",
     "text": [
      "<Compressed Sparse Row sparse matrix of dtype 'int64'\n",
      "\twith 2 stored elements and shape (3, 2)>\n",
      "  Coords\tValues\n",
      "  (1, 1)\t1\n",
      "  (2, 0)\t3\n",
      "<Compressed Sparse Row sparse matrix of dtype 'int64'\n",
      "\twith 2 stored elements and shape (3, 10)>\n",
      "  Coords\tValues\n",
      "  (1, 1)\t1\n",
      "  (2, 0)\t3\n"
     ]
    }
   ],
   "source": [
    "some_matrix = np.array([[0, 0], [0, 1], [3, 0]])\n",
    "some_matrix_sparse = sparse.csr_matrix(some_matrix)\n",
    "\n",
    "matrix_large = np.array([[0, 0, 0, 0, 0, 0, 0, 0, 0, 0],\n",
    "                         [0, 1, 0, 0, 0, 0, 0, 0, 0, 0],\n",
    "                         [3, 0, 0, 0, 0, 0, 0, 0, 0, 0]])\n",
    "matrix_large_sparse = sparse.csr_matrix(matrix_large)\n",
    "\n",
    "print(some_matrix_sparse)\n",
    "print(matrix_large_sparse)"
   ]
  },
  {
   "cell_type": "markdown",
   "metadata": {},
   "source": [
    "It is interesting to note that the print function of sparse matrices tells me the shape - the CSR representation is the same here!"
   ]
  },
  {
   "cell_type": "code",
   "execution_count": 33,
   "metadata": {},
   "outputs": [
    {
     "name": "stdout",
     "output_type": "stream",
     "text": [
      "[0 0 0 0 0]\n",
      "[[1.337 1.337 1.337 1.337 1.337 1.337 1.337 1.337 1.337 1.337]\n",
      " [1.337 1.337 1.337 1.337 1.337 1.337 1.337 1.337 1.337 1.337]\n",
      " [1.337 1.337 1.337 1.337 1.337 1.337 1.337 1.337 1.337 1.337]\n",
      " [1.337 1.337 1.337 1.337 1.337 1.337 1.337 1.337 1.337 1.337]\n",
      " [1.337 1.337 1.337 1.337 1.337 1.337 1.337 1.337 1.337 1.337]\n",
      " [1.337 1.337 1.337 1.337 1.337 1.337 1.337 1.337 1.337 1.337]\n",
      " [1.337 1.337 1.337 1.337 1.337 1.337 1.337 1.337 1.337 1.337]\n",
      " [1.337 1.337 1.337 1.337 1.337 1.337 1.337 1.337 1.337 1.337]\n",
      " [1.337 1.337 1.337 1.337 1.337 1.337 1.337 1.337 1.337 1.337]\n",
      " [1.337 1.337 1.337 1.337 1.337 1.337 1.337 1.337 1.337 1.337]]\n",
      "<Compressed Sparse Row sparse matrix of dtype 'int64'\n",
      "\twith 0 stored elements and shape (1, 5)>\n"
     ]
    }
   ],
   "source": [
    "zeroes = np.zeros(shape=5, dtype=int)\n",
    "ones = np.full(shape=(10, 10), fill_value=1.337)\n",
    "zeroes_sparse = sparse.csr_matrix(zeroes)\n",
    "\n",
    "print(zeroes)\n",
    "print(ones)\n",
    "print(zeroes_sparse)"
   ]
  },
  {
   "cell_type": "code",
   "execution_count": 34,
   "metadata": {},
   "outputs": [
    {
     "name": "stdout",
     "output_type": "stream",
     "text": [
      "0\n",
      "[3 0]\n",
      "[0 1]\n",
      "[[0 1]\n",
      " [3 0]]\n",
      "[[0 0]\n",
      " [0 1]\n",
      " [3 0]]\n"
     ]
    }
   ],
   "source": [
    "print(zeroes[3])\n",
    "print(some_matrix[2])\n",
    "print(some_matrix[-2])\n",
    "print(some_matrix[1:])\n",
    "print(some_matrix[:10000])"
   ]
  },
  {
   "cell_type": "markdown",
   "metadata": {},
   "source": [
    "Python is very interesting regarding slicing of arrays, element selection, and so on!"
   ]
  },
  {
   "cell_type": "code",
   "execution_count": 35,
   "metadata": {},
   "outputs": [
    {
     "name": "stdout",
     "output_type": "stream",
     "text": [
      "(3, 4)\n",
      "12\n",
      "2\n",
      "96\n",
      "160\n",
      "Actual sparsly populated matrix size: 240\n",
      "Actual sparsly populated matrix size: 40\n"
     ]
    }
   ],
   "source": [
    "another_matrix = np.array([[1, 2, 3, 4],\n",
    "                           [5, 6, 7, 8],\n",
    "                           [9, 10, 11, 12]])\n",
    "\n",
    "another_matrix_sparse = sparse.csr_matrix(another_matrix)\n",
    "\n",
    "print(another_matrix.shape)\n",
    "print(another_matrix.size)\n",
    "print(another_matrix.ndim)\n",
    "print(another_matrix.nbytes)\n",
    "print(another_matrix_sparse.data.nbytes +\n",
    "      another_matrix_sparse.indptr.nbytes + another_matrix_sparse.indices.nbytes)\n",
    "\n",
    "print(f\"Actual sparsly populated matrix size: {matrix_large.nbytes}\")\n",
    "print(\n",
    "    f\"Actual sparsly populated matrix size: {matrix_large_sparse.data.nbytes + matrix_large_sparse.indptr.nbytes + matrix_large_sparse.indices.nbytes}\")"
   ]
  },
  {
   "cell_type": "code",
   "execution_count": 36,
   "metadata": {},
   "outputs": [
    {
     "name": "stdout",
     "output_type": "stream",
     "text": [
      "[[101 102 103 104]\n",
      " [105 106 107 108]\n",
      " [109 110 111 112]]\n",
      "[[101 102 103 104]\n",
      " [105 106 107 108]\n",
      " [109 110 111 112]]\n",
      "[[  1   4   9  16]\n",
      " [ 25  36  49  64]\n",
      " [ 81 100 121 144]]\n"
     ]
    }
   ],
   "source": [
    "def add_100(i): return i + 100\n",
    "\n",
    "\n",
    "vectorized_add_100 = np.vectorize(add_100)\n",
    "\n",
    "another_matrix_plus_100 = vectorized_add_100(another_matrix)\n",
    "print(another_matrix_plus_100)\n",
    "\n",
    "broadcasting_add_100_to_another_matrix = another_matrix + 100\n",
    "print(broadcasting_add_100_to_another_matrix)\n",
    "\n",
    "hadamard = another_matrix * another_matrix\n",
    "print(hadamard)"
   ]
  },
  {
   "cell_type": "code",
   "execution_count": 42,
   "metadata": {},
   "outputs": [
    {
     "name": "stdout",
     "output_type": "stream",
     "text": [
      "min:1, max:12\n",
      "min col:[1 2 3 4], max col:[ 9 10 11 12]\n",
      "min row:[1 5 9], max row:[ 4  8 12]\n"
     ]
    }
   ],
   "source": [
    "min = np.min(another_matrix)\n",
    "max = np.max(another_matrix)\n",
    "\n",
    "min_col = np.min(another_matrix, axis=0)\n",
    "max_col = np.max(another_matrix, axis=0)\n",
    "\n",
    "min_row = np.min(another_matrix, axis=1)\n",
    "max_row = np.max(another_matrix, axis=1)\n",
    "\n",
    "print(f\"min:{min}, max:{max}\")\n",
    "print(f\"min col:{min_col}, max col:{max_col}\")\n",
    "print(f\"min row:{min_row}, max row:{max_row}\")"
   ]
  }
 ],
 "metadata": {
  "kernelspec": {
   "display_name": "ml-with-python",
   "language": "python",
   "name": "python3"
  },
  "language_info": {
   "codemirror_mode": {
    "name": "ipython",
    "version": 3
   },
   "file_extension": ".py",
   "mimetype": "text/x-python",
   "name": "python",
   "nbconvert_exporter": "python",
   "pygments_lexer": "ipython3",
   "version": "3.13.0"
  }
 },
 "nbformat": 4,
 "nbformat_minor": 2
}
