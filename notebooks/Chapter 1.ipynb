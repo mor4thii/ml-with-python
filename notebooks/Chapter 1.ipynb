{
 "cells": [
  {
   "cell_type": "markdown",
   "metadata": {},
   "source": [
    "# Chapter 1\n",
    "\n",
    "This is all about data structures in NumPy"
   ]
  },
  {
   "cell_type": "code",
   "execution_count": 83,
   "metadata": {},
   "outputs": [],
   "source": [
    "import numpy as np"
   ]
  },
  {
   "cell_type": "code",
   "execution_count": 84,
   "metadata": {},
   "outputs": [
    {
     "name": "stdout",
     "output_type": "stream",
     "text": [
      "array([1, 2, 3])\n",
      "array([[1],\n",
      "       [2],\n",
      "       [3]])\n",
      "array([[1, 2],\n",
      "       [1, 2],\n",
      "       [1, 2]])\n"
     ]
    }
   ],
   "source": [
    "vector_row = np.array([1, 2, 3])\n",
    "vector_col = np.array([[1], [2], [3]])\n",
    "matrix = np.array([[1, 2], [1, 2], [1, 2]])\n",
    "\n",
    "print(np.array_repr(vector_row))\n",
    "print(np.array_repr(vector_col))\n",
    "print(np.array_repr(matrix))"
   ]
  },
  {
   "cell_type": "markdown",
   "metadata": {},
   "source": [
    "There is `np.mat([[1,2],[1,2]])` which would create a Matrix data structure, but arrays are apparently the de facto standard for some reason, see [numpy Matrix documentation](https://numpy.org/doc/2.1/reference/generated/numpy.matrix.html)."
   ]
  },
  {
   "cell_type": "code",
   "execution_count": 85,
   "metadata": {},
   "outputs": [],
   "source": [
    "from scipy import sparse"
   ]
  },
  {
   "cell_type": "code",
   "execution_count": 86,
   "metadata": {},
   "outputs": [
    {
     "name": "stdout",
     "output_type": "stream",
     "text": [
      "<Compressed Sparse Row sparse matrix of dtype 'int64'\n",
      "\twith 2 stored elements and shape (3, 2)>\n",
      "  Coords\tValues\n",
      "  (1, 1)\t1\n",
      "  (2, 0)\t3\n",
      "<Compressed Sparse Row sparse matrix of dtype 'int64'\n",
      "\twith 2 stored elements and shape (3, 10)>\n",
      "  Coords\tValues\n",
      "  (1, 1)\t1\n",
      "  (2, 0)\t3\n"
     ]
    }
   ],
   "source": [
    "some_matrix = np.array([[0, 0], [0, 1], [3, 0]])\n",
    "some_matrix_sparse = sparse.csr_matrix(some_matrix)\n",
    "\n",
    "matrix_large = np.array([[0, 0, 0, 0, 0, 0, 0, 0, 0, 0],\n",
    "                         [0, 1, 0, 0, 0, 0, 0, 0, 0, 0],\n",
    "                         [3, 0, 0, 0, 0, 0, 0, 0, 0, 0]])\n",
    "matrix_large_sparse = sparse.csr_matrix(matrix_large)\n",
    "\n",
    "print(some_matrix_sparse)\n",
    "print(matrix_large_sparse)"
   ]
  },
  {
   "cell_type": "markdown",
   "metadata": {},
   "source": [
    "It is interesting to note that the print function of sparse matrices tells me the shape - the CSR representation is the same here!"
   ]
  },
  {
   "cell_type": "code",
   "execution_count": 87,
   "metadata": {},
   "outputs": [
    {
     "name": "stdout",
     "output_type": "stream",
     "text": [
      "[0 0 0 0 0]\n",
      "[[1.337 1.337 1.337 1.337 1.337 1.337 1.337 1.337 1.337 1.337]\n",
      " [1.337 1.337 1.337 1.337 1.337 1.337 1.337 1.337 1.337 1.337]\n",
      " [1.337 1.337 1.337 1.337 1.337 1.337 1.337 1.337 1.337 1.337]\n",
      " [1.337 1.337 1.337 1.337 1.337 1.337 1.337 1.337 1.337 1.337]\n",
      " [1.337 1.337 1.337 1.337 1.337 1.337 1.337 1.337 1.337 1.337]\n",
      " [1.337 1.337 1.337 1.337 1.337 1.337 1.337 1.337 1.337 1.337]\n",
      " [1.337 1.337 1.337 1.337 1.337 1.337 1.337 1.337 1.337 1.337]\n",
      " [1.337 1.337 1.337 1.337 1.337 1.337 1.337 1.337 1.337 1.337]\n",
      " [1.337 1.337 1.337 1.337 1.337 1.337 1.337 1.337 1.337 1.337]\n",
      " [1.337 1.337 1.337 1.337 1.337 1.337 1.337 1.337 1.337 1.337]]\n",
      "<Compressed Sparse Row sparse matrix of dtype 'int64'\n",
      "\twith 0 stored elements and shape (1, 5)>\n"
     ]
    }
   ],
   "source": [
    "zeroes = np.zeros(shape=5, dtype=int)\n",
    "ones = np.full(shape=(10, 10), fill_value=1.337)\n",
    "zeroes_sparse = sparse.csr_matrix(zeroes)\n",
    "\n",
    "print(zeroes)\n",
    "print(ones)\n",
    "print(zeroes_sparse)"
   ]
  },
  {
   "cell_type": "code",
   "execution_count": 90,
   "metadata": {},
   "outputs": [
    {
     "name": "stdout",
     "output_type": "stream",
     "text": [
      "0\n",
      "[3 0]\n",
      "[0 1]\n",
      "[[0 1]\n",
      " [3 0]]\n",
      "[[0 0]\n",
      " [0 1]\n",
      " [3 0]]\n"
     ]
    }
   ],
   "source": [
    "print(zeroes[3])\n",
    "print(some_matrix[2])\n",
    "print(some_matrix[-2])\n",
    "print(some_matrix[1:])\n",
    "print(some_matrix[:10000])"
   ]
  },
  {
   "cell_type": "markdown",
   "metadata": {},
   "source": [
    "Python is very interesting regarding slicing of arrays, element selection, and so on!"
   ]
  }
 ],
 "metadata": {
  "kernelspec": {
   "display_name": "ml-with-python",
   "language": "python",
   "name": "python3"
  },
  "language_info": {
   "codemirror_mode": {
    "name": "ipython",
    "version": 3
   },
   "file_extension": ".py",
   "mimetype": "text/x-python",
   "name": "python",
   "nbconvert_exporter": "python",
   "pygments_lexer": "ipython3",
   "version": "3.13.0"
  }
 },
 "nbformat": 4,
 "nbformat_minor": 2
}
