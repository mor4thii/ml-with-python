{
   "cells": [
      {
         "cell_type": "markdown",
         "metadata": {},
         "source": [
            "# Chapter 1\n",
            "\n",
            "This is all about data structures in NumPy"
         ]
      },
      {
         "cell_type": "code",
         "execution_count": 26,
         "metadata": {},
         "outputs": [],
         "source": [
            "import numpy as np"
         ]
      },
      {
         "cell_type": "code",
         "execution_count": 27,
         "metadata": {},
         "outputs": [
            {
               "name": "stdout",
               "output_type": "stream",
               "text": [
                  "array([1, 2, 3])\n",
                  "array([[1],\n",
                  "       [2],\n",
                  "       [3]])\n",
                  "array([[1, 2],\n",
                  "       [1, 2],\n",
                  "       [1, 2]])\n"
               ]
            }
         ],
         "source": [
            "vector_row = np.array([1, 2, 3])\n",
            "vector_col = np.array([[1], [2], [3]])\n",
            "matrix = np.array([[1, 2], [1, 2], [1, 2]])\n",
            "\n",
            "print(np.array_repr(vector_row))\n",
            "print(np.array_repr(vector_col))\n",
            "print(np.array_repr(matrix))"
         ]
      },
      {
         "cell_type": "markdown",
         "metadata": {},
         "source": [
            "There is `np.mat([[1,2],[1,2]])` which would create a Matrix data structure, but arrays are apparently the de facto standard for some reason, see [numpy Matrix documentation](https://numpy.org/doc/2.1/reference/generated/numpy.matrix.html)."
         ]
      },
      {
         "cell_type": "code",
         "execution_count": 28,
         "metadata": {},
         "outputs": [],
         "source": [
            "from scipy import sparse"
         ]
      },
      {
         "cell_type": "code",
         "execution_count": 29,
         "metadata": {},
         "outputs": [
            {
               "name": "stdout",
               "output_type": "stream",
               "text": [
                  "<Compressed Sparse Row sparse matrix of dtype 'int64'\n",
                  "\twith 2 stored elements and shape (3, 2)>\n",
                  "  Coords\tValues\n",
                  "  (1, 1)\t1\n",
                  "  (2, 0)\t3\n",
                  "<Compressed Sparse Row sparse matrix of dtype 'int64'\n",
                  "\twith 2 stored elements and shape (3, 10)>\n",
                  "  Coords\tValues\n",
                  "  (1, 1)\t1\n",
                  "  (2, 0)\t3\n"
               ]
            }
         ],
         "source": [
            "some_matrix = np.array([[0, 0], [0, 1], [3, 0]])\n",
            "some_matrix_sparse = sparse.csr_matrix(some_matrix)\n",
            "\n",
            "matrix_large = np.array([[0, 0, 0, 0, 0, 0, 0, 0, 0, 0],\n",
            "                         [0, 1, 0, 0, 0, 0, 0, 0, 0, 0],\n",
            "                         [3, 0, 0, 0, 0, 0, 0, 0, 0, 0]])\n",
            "matrix_large_sparse = sparse.csr_matrix(matrix_large)\n",
            "\n",
            "print(some_matrix_sparse)\n",
            "print(matrix_large_sparse)"
         ]
      },
      {
         "cell_type": "markdown",
         "metadata": {},
         "source": [
            "It is interesting to note that the print function of sparse matrices tells me the shape - the CSR representation is the same here!"
         ]
      },
      {
         "cell_type": "code",
         "execution_count": 30,
         "metadata": {},
         "outputs": [
            {
               "name": "stdout",
               "output_type": "stream",
               "text": [
                  "[0 0 0 0 0]\n",
                  "[[1.337 1.337 1.337 1.337 1.337 1.337 1.337 1.337 1.337 1.337]\n",
                  " [1.337 1.337 1.337 1.337 1.337 1.337 1.337 1.337 1.337 1.337]\n",
                  " [1.337 1.337 1.337 1.337 1.337 1.337 1.337 1.337 1.337 1.337]\n",
                  " [1.337 1.337 1.337 1.337 1.337 1.337 1.337 1.337 1.337 1.337]\n",
                  " [1.337 1.337 1.337 1.337 1.337 1.337 1.337 1.337 1.337 1.337]\n",
                  " [1.337 1.337 1.337 1.337 1.337 1.337 1.337 1.337 1.337 1.337]\n",
                  " [1.337 1.337 1.337 1.337 1.337 1.337 1.337 1.337 1.337 1.337]\n",
                  " [1.337 1.337 1.337 1.337 1.337 1.337 1.337 1.337 1.337 1.337]\n",
                  " [1.337 1.337 1.337 1.337 1.337 1.337 1.337 1.337 1.337 1.337]\n",
                  " [1.337 1.337 1.337 1.337 1.337 1.337 1.337 1.337 1.337 1.337]]\n",
                  "<Compressed Sparse Row sparse matrix of dtype 'int64'\n",
                  "\twith 0 stored elements and shape (1, 5)>\n"
               ]
            }
         ],
         "source": [
            "zeroes = np.zeros(shape=5, dtype=int)\n",
            "ones = np.full(shape=(10, 10), fill_value=1.337)\n",
            "zeroes_sparse = sparse.csr_matrix(zeroes)\n",
            "\n",
            "print(zeroes)\n",
            "print(ones)\n",
            "print(zeroes_sparse)"
         ]
      },
      {
         "cell_type": "code",
         "execution_count": 31,
         "metadata": {},
         "outputs": [
            {
               "name": "stdout",
               "output_type": "stream",
               "text": [
                  "0\n",
                  "[3 0]\n",
                  "[0 1]\n",
                  "[[0 1]\n",
                  " [3 0]]\n",
                  "[[0 0]\n",
                  " [0 1]\n",
                  " [3 0]]\n"
               ]
            }
         ],
         "source": [
            "print(zeroes[3])\n",
            "print(some_matrix[2])\n",
            "print(some_matrix[-2])\n",
            "print(some_matrix[1:])\n",
            "print(some_matrix[:10000])"
         ]
      },
      {
         "cell_type": "markdown",
         "metadata": {},
         "source": [
            "Python is very interesting regarding slicing of arrays, element selection, and so on!"
         ]
      },
      {
         "cell_type": "code",
         "execution_count": 32,
         "metadata": {},
         "outputs": [
            {
               "name": "stdout",
               "output_type": "stream",
               "text": [
                  "(3, 4)\n",
                  "12\n",
                  "2\n",
                  "96\n",
                  "160\n",
                  "Actual matrix size: 240\n",
                  "Actual sparsly populated matrix size: 40\n"
               ]
            }
         ],
         "source": [
            "another_matrix = np.array([[1, 2, 3, 4],\n",
            "                           [5, 6, 7, 8],\n",
            "                           [9, 10, 11, 12]])\n",
            "\n",
            "another_matrix_sparse = sparse.csr_matrix(another_matrix)\n",
            "\n",
            "print(another_matrix.shape)\n",
            "print(another_matrix.size)\n",
            "print(another_matrix.ndim)\n",
            "print(another_matrix.nbytes)\n",
            "print(another_matrix_sparse.data.nbytes +\n",
            "      another_matrix_sparse.indptr.nbytes + another_matrix_sparse.indices.nbytes)\n",
            "\n",
            "print(f\"Actual matrix size: {matrix_large.nbytes}\")\n",
            "print(\n",
            "    f\"Actual sparsly populated matrix size: {matrix_large_sparse.data.nbytes + matrix_large_sparse.indptr.nbytes + matrix_large_sparse.indices.nbytes}\")"
         ]
      },
      {
         "cell_type": "code",
         "execution_count": 33,
         "metadata": {},
         "outputs": [
            {
               "name": "stdout",
               "output_type": "stream",
               "text": [
                  "[[101 102 103 104]\n",
                  " [105 106 107 108]\n",
                  " [109 110 111 112]]\n",
                  "[[101 102 103 104]\n",
                  " [105 106 107 108]\n",
                  " [109 110 111 112]]\n",
                  "[[  1   4   9  16]\n",
                  " [ 25  36  49  64]\n",
                  " [ 81 100 121 144]]\n"
               ]
            }
         ],
         "source": [
            "def add_100(i): return i + 100\n",
            "\n",
            "\n",
            "vectorized_add_100 = np.vectorize(add_100)\n",
            "\n",
            "another_matrix_plus_100 = vectorized_add_100(another_matrix)\n",
            "print(another_matrix_plus_100)\n",
            "\n",
            "broadcasting_add_100_to_another_matrix = another_matrix + 100\n",
            "print(broadcasting_add_100_to_another_matrix)\n",
            "\n",
            "hadamard = another_matrix * another_matrix\n",
            "print(hadamard)"
         ]
      },
      {
         "cell_type": "code",
         "execution_count": 34,
         "metadata": {},
         "outputs": [
            {
               "name": "stdout",
               "output_type": "stream",
               "text": [
                  "min:1, max:12\n",
                  "min col:[1 2 3 4], max col:[ 9 10 11 12]\n",
                  "min row:[1 5 9], max row:[ 4  8 12]\n"
               ]
            }
         ],
         "source": [
            "min = np.min(another_matrix)\n",
            "max = np.max(another_matrix)\n",
            "\n",
            "min_col = np.min(another_matrix, axis=0)\n",
            "max_col = np.max(another_matrix, axis=0)\n",
            "\n",
            "min_row = np.min(another_matrix, axis=1)\n",
            "max_row = np.max(another_matrix, axis=1)\n",
            "\n",
            "print(f\"min:{min}, max:{max}\")\n",
            "print(f\"min col:{min_col}, max col:{max_col}\")\n",
            "print(f\"min row:{min_row}, max row:{max_row}\")"
         ]
      },
      {
         "cell_type": "code",
         "execution_count": 35,
         "metadata": {},
         "outputs": [
            {
               "name": "stdout",
               "output_type": "stream",
               "text": [
                  "mean:6.5, var:11.916666666666666, std:3.452052529534663\n",
                  "mean:[5. 6. 7. 8.], var:[10.66666667 10.66666667 10.66666667 10.66666667], std:[3.26598632 3.26598632 3.26598632 3.26598632]\n",
                  "mean:[ 2.5  6.5 10.5], var:[1.25 1.25 1.25], std:[1.11803399 1.11803399 1.11803399]\n"
               ]
            }
         ],
         "source": [
            "mean = np.mean(another_matrix)\n",
            "var = np.var(another_matrix)\n",
            "std = np.std(another_matrix)\n",
            "\n",
            "print(f\"mean:{mean}, var:{var}, std:{std}\")\n",
            "\n",
            "mean = np.mean(another_matrix, axis=0)\n",
            "var = np.var(another_matrix, axis=0)\n",
            "std = np.std(another_matrix, axis=0)\n",
            "\n",
            "print(f\"mean:{mean}, var:{var}, std:{std}\")\n",
            "\n",
            "mean = np.mean(another_matrix, axis=1)\n",
            "var = np.var(another_matrix, axis=1)\n",
            "std = np.std(another_matrix, axis=1)\n",
            "\n",
            "print(f\"mean:{mean}, var:{var}, std:{std}\")"
         ]
      },
      {
         "cell_type": "code",
         "execution_count": 36,
         "metadata": {},
         "outputs": [
            {
               "name": "stdout",
               "output_type": "stream",
               "text": [
                  "Reshape (6,2):\n",
                  "[[ 1  2]\n",
                  " [ 3  4]\n",
                  " [ 5  6]\n",
                  " [ 7  8]\n",
                  " [ 9 10]\n",
                  " [11 12]]\n",
                  "Reshape (2,6):\n",
                  "[[ 1  2  3  4  5  6]\n",
                  " [ 7  8  9 10 11 12]]\n",
                  "Reshape (1,?):\n",
                  "[[ 1  2  3  4  5  6  7  8  9 10 11 12]]\n",
                  "Reshape (2,?):\n",
                  "[[ 1  2  3  4  5  6]\n",
                  " [ 7  8  9 10 11 12]]\n",
                  "Reshape (3,?):\n",
                  "[[ 1  2  3  4]\n",
                  " [ 5  6  7  8]\n",
                  " [ 9 10 11 12]]\n",
                  "Reshape (4,?):\n",
                  "[[ 1  2  3]\n",
                  " [ 4  5  6]\n",
                  " [ 7  8  9]\n",
                  " [10 11 12]]\n",
                  "Reshape (6,?):\n",
                  "[[ 1  2]\n",
                  " [ 3  4]\n",
                  " [ 5  6]\n",
                  " [ 7  8]\n",
                  " [ 9 10]\n",
                  " [11 12]]\n",
                  "Reshape (?):\n",
                  "[ 1  2  3  4  5  6  7  8  9 10 11 12]\n",
                  "Reshape (12):\n",
                  "[ 1  2  3  4  5  6  7  8  9 10 11 12]\n"
               ]
            }
         ],
         "source": [
            "print(f\"Reshape (6,2):\\n{another_matrix.reshape(6, 2)}\")\n",
            "print(f\"Reshape (2,6):\\n{another_matrix.reshape(2, 6)}\")\n",
            "print(f\"Reshape (1,?):\\n{another_matrix.reshape(1, -1)}\")\n",
            "print(f\"Reshape (2,?):\\n{another_matrix.reshape(2, -1)}\")\n",
            "print(f\"Reshape (3,?):\\n{another_matrix.reshape(3, -1)}\")\n",
            "print(f\"Reshape (4,?):\\n{another_matrix.reshape(4, -1)}\")\n",
            "print(f\"Reshape (6,?):\\n{another_matrix.reshape(6, -1)}\")\n",
            "print(f\"Reshape (?):\\n{another_matrix.reshape(-1)}\")\n",
            "print(f\"Reshape (12):\\n{another_matrix.reshape(12)}\")"
         ]
      },
      {
         "cell_type": "code",
         "execution_count": 37,
         "metadata": {},
         "outputs": [
            {
               "name": "stdout",
               "output_type": "stream",
               "text": [
                  "Flatten does the same thing as reshape(-1)\n",
                  "[ 1  2  3  4  5  6  7  8  9 10 11 12]\n",
                  "[ 1  2  3  4  5  6  7  8  9 10 11 12]\n",
                  "But reshape(1, -1) creates a matrix row vector instead of a simple vector!\n",
                  "[[ 1  2  3  4  5  6  7  8  9 10 11 12]]\n",
                  "ravel is supposed to be faster as it creates no copy: [ 1  2  3  4  5  6  7  8  9 10 11 12]\n",
                  "ravel with C-style order: [ 1  2  3  4  5  6  7  8  9 10 11 12]\n",
                  "ravel with Fortran-style order: [ 1  5  9  2  6 10  3  7 11  4  8 12]\n",
                  "ravel with Fortran-contigious style: [ 1  2  3  4  5  6  7  8  9 10 11 12]\n",
                  "ravel with memort order: [ 1  2  3  4  5  6  7  8  9 10 11 12]\n"
               ]
            }
         ],
         "source": [
            "print(f\"Flatten does the same thing as reshape(-1)\")\n",
            "print(f\"{another_matrix.reshape(-1)}\")\n",
            "print(f\"{another_matrix.flatten()}\")\n",
            "print(f\"But reshape(1, -1) creates a matrix row vector instead of a simple vector!\")\n",
            "print(f\"{another_matrix.reshape(1, -1)}\")\n",
            "\n",
            "ravel_matrix = np.array([[1, 2, 3, 4],\n",
            "                         [5, 6, 7, 8],\n",
            "                         [9, 10, 11, 12]])\n",
            "\n",
            "print(f\"ravel is supposed to be faster as it creates no copy: {\n",
            "      ravel_matrix.ravel()}\")\n",
            "\n",
            "print(f\"ravel with C-style order: {ravel_matrix.ravel(order='C')}\")\n",
            "print(f\"ravel with Fortran-style order: {ravel_matrix.ravel(order='F')}\")\n",
            "print(f\"ravel with Fortran-contigious style: {ravel_matrix.ravel(order='A')}\")\n",
            "print(f\"ravel with memort order: {ravel_matrix.ravel(order='K')}\")"
         ]
      },
      {
         "cell_type": "code",
         "execution_count": 38,
         "metadata": {},
         "outputs": [
            {
               "name": "stdout",
               "output_type": "stream",
               "text": [
                  "Transposed: [[ 1  5  9]\n",
                  " [ 2  6 10]\n",
                  " [ 3  7 11]\n",
                  " [ 4  8 12]]\n",
                  "Strictly, vectors cannot be transposed: [1 2 3 4 5 6]\n",
                  "But row/column vectors can be: [[1]\n",
                  " [2]\n",
                  " [3]\n",
                  " [4]\n",
                  " [5]\n",
                  " [6]]\n"
               ]
            }
         ],
         "source": [
            "print(f\"Transposed: {another_matrix.T}\")\n",
            "print(f\"Strictly, vectors cannot be transposed: {\n",
            "      np.array([1, 2, 3, 4, 5, 6]).T}\")\n",
            "\n",
            "print(f\"But row/column vectors can be: {\n",
            "      np.array([[1, 2, 3, 4, 5, 6]]).T}\")"
         ]
      },
      {
         "cell_type": "code",
         "execution_count": 59,
         "metadata": {},
         "outputs": [
            {
               "name": "stdout",
               "output_type": "stream",
               "text": [
                  "Rank:\t\t2\n",
                  "Diagonal:\t[ 1  6 11]\n",
                  "Trace:\t\t18\n",
                  "Dot:\t\t110\n",
                  "Dot (op):\t110\n",
                  "Plus:\n",
                  "[[102 104 106 108]\n",
                  " [110 112 114 116]\n",
                  " [118 120 122 124]]\n",
                  "Minus:\n",
                  "[[-100 -100 -100 -100]\n",
                  " [-100 -100 -100 -100]\n",
                  " [-100 -100 -100 -100]]\n",
                  "Multiply:\n",
                  "[[ 70  80  90]\n",
                  " [158 184 210]\n",
                  " [246 288 330]]\n",
                  "Hadamard:\n",
                  "[[  1   4   9  16]\n",
                  " [ 25  36  49  64]\n",
                  " [ 81 100 121 144]]\n",
                  "Inverse:\n",
                  "[[-1.5   0.5 ]\n",
                  " [ 1.25 -0.25]]\n"
               ]
            }
         ],
         "source": [
            "rank = np.linalg.matrix_rank(another_matrix)\n",
            "diag = another_matrix.diagonal()\n",
            "trace = another_matrix.trace()\n",
            "dot = np.dot(another_matrix[0], another_matrix[-1])\n",
            "dot_with_operator = another_matrix[0] @ another_matrix[-1]\n",
            "plus = another_matrix + another_matrix_plus_100\n",
            "minus = another_matrix - another_matrix_plus_100\n",
            "multiply = another_matrix @ another_matrix.reshape(4, 3)  # or np.dot()\n",
            "multiply_element_wise = another_matrix * another_matrix\n",
            "inverse = np.linalg.inv(another_matrix[:2, :2])\n",
            "\n",
            "print(f\"Rank:\\t\\t{rank}\")\n",
            "print(f\"Diagonal:\\t{diag}\")\n",
            "print(f\"Trace:\\t\\t{trace}\")\n",
            "print(f\"Dot:\\t\\t{dot}\")\n",
            "print(f\"Dot (op):\\t{dot_with_operator}\")\n",
            "print(f\"Plus:\\n{plus}\")\n",
            "print(f\"Minus:\\n{minus}\")\n",
            "print(f\"Multiply:\\n{multiply}\")\n",
            "print(f\"Hadamard:\\n{multiply_element_wise}\")\n",
            "print(f\"Inverse:\\n{inverse}\")"
         ]
      },
      {
         "cell_type": "code",
         "execution_count": 70,
         "metadata": {},
         "outputs": [
            {
               "name": "stdout",
               "output_type": "stream",
               "text": [
                  "[0.5488135  0.71518937 0.60276338]\n",
                  "[3 7 9]\n"
               ]
            }
         ],
         "source": [
            "np.random.seed(0)\n",
            "\n",
            "print(f\"{np.random.random(3)}\")\n",
            "print(f\"{np.random.randint(0, 11, 3)}\")"
         ]
      },
      {
         "cell_type": "markdown",
         "metadata": {},
         "source": [
            "There are many random and pseudo-random number generators, like normal logistic, and uniform distribution generators, to name a few"
         ]
      }
   ],
   "metadata": {
      "kernelspec": {
         "display_name": "ml-with-python",
         "language": "python",
         "name": "python3"
      },
      "language_info": {
         "codemirror_mode": {
            "name": "ipython",
            "version": 3
         },
         "file_extension": ".py",
         "mimetype": "text/x-python",
         "name": "python",
         "nbconvert_exporter": "python",
         "pygments_lexer": "ipython3",
         "version": "3.13.0"
      }
   },
   "nbformat": 4,
   "nbformat_minor": 2
}
